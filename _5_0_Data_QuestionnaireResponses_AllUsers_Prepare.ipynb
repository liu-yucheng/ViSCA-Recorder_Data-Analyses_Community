{
 "cells": [
  {
   "cell_type": "markdown",
   "metadata": {},
   "source": [
    "```\n",
    "Copyright (C) 2024-2025 Yucheng Liu. Under the GNU AGPL 3.0 License.\n",
    "GNU AGPL 3.0 License: https://www.gnu.org/licenses/agpl-3.0.txt .\n",
    "\n",
    "Copyright (C) 2024-2025 Yucheng Liu. Under the CC-BY-SA 4.0 License.\n",
    "CC-BY-SA 4.0 License: https://creativecommons.org/licenses/by-sa/4.0/legalcode.txt .\n",
    "```"
   ]
  },
  {
   "cell_type": "markdown",
   "metadata": {},
   "source": [
    "# 5.0. Preparing All Users' Questionnaire Responses Data\n",
    "\n",
    "Preparing all users' questionnaire responses data."
   ]
  },
  {
   "cell_type": "markdown",
   "metadata": {},
   "source": [
    "Create a `./_5_Data_QuestionnaireResponses` folder."
   ]
  },
  {
   "cell_type": "code",
   "execution_count": 1,
   "metadata": {},
   "outputs": [],
   "source": [
    "import os\n",
    "\n",
    "Path_Self = os.path.abspath(os.path.curdir)\n",
    "Path_Output = os.path.join(Path_Self, \"_5_Data_QuestionnaireResponses\")\n",
    "os.makedirs(Path_Output, exist_ok=True)\n"
   ]
  },
  {
   "cell_type": "markdown",
   "metadata": {},
   "source": [
    "Manually read the original questionnaire responses data from `./Data_ToAnalyze/QuestionnaireResponses/Responses_Original.csv`.\n",
    "\n",
    "Manually encode the questionnaire responses data and write it to `./Data_ToAnalyze/QuestionnaireResponses/Responses_Encoded.csv`.\n",
    "\n",
    "Write the encoded questionnaire responses data to `./_5_Data_QuestionnaireResponses/AllUsers_Responses.csv`.\n"
   ]
  },
  {
   "cell_type": "code",
   "execution_count": 2,
   "metadata": {},
   "outputs": [
    {
     "data": {
      "text/plain": [
       "'d:\\\\Program-Files\\\\ViSCA-Recorder_Data-Analyses_Community\\\\_5_Data_QuestionnaireResponses\\\\AllUsers_Responses.csv'"
      ]
     },
     "execution_count": 2,
     "metadata": {},
     "output_type": "execute_result"
    }
   ],
   "source": [
    "import os\n",
    "import shutil\n",
    "\n",
    "Path_Self = os.path.abspath(os.path.curdir)\n",
    "\n",
    "Path_Input = os.path.join(\n",
    "    Path_Self,\n",
    "    \"Data_ToAnalyze\",\n",
    "    \"QuestionnaireResponses\",\n",
    ")\n",
    "\n",
    "Path_Input_Users = os.path.join(Path_Input, \"Responses_Encoded.csv\")\n",
    "Path_Output = os.path.join(Path_Self, \"_5_Data_QuestionnaireResponses\")\n",
    "Path_Output_Users = os.path.join(Path_Output, \"AllUsers_Responses.csv\")\n",
    "shutil.copy2(Path_Input_Users, Path_Output_Users)\n"
   ]
  },
  {
   "cell_type": "markdown",
   "metadata": {},
   "source": [
    "## Congrats! \n",
    "\n",
    "We have completed this `ipynb` notebook."
   ]
  }
 ],
 "metadata": {
  "kernelspec": {
   "display_name": "visca-recorder_data-analyses",
   "language": "python",
   "name": "python3"
  },
  "language_info": {
   "codemirror_mode": {
    "name": "ipython",
    "version": 3
   },
   "file_extension": ".py",
   "mimetype": "text/x-python",
   "name": "python",
   "nbconvert_exporter": "python",
   "pygments_lexer": "ipython3",
   "version": "3.12.4"
  }
 },
 "nbformat": 4,
 "nbformat_minor": 2
}
