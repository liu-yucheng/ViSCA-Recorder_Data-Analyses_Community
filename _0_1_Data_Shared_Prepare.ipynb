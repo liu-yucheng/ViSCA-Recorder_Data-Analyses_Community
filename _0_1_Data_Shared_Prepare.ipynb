{
 "cells": [
  {
   "cell_type": "markdown",
   "metadata": {},
   "source": [
    "```\n",
    "Copyright (C) 2024-2025 Yucheng Liu. Under the GNU AGPL 3.0 License.\n",
    "GNU AGPL 3.0 License: https://www.gnu.org/licenses/agpl-3.0.txt .\n",
    "\n",
    "Copyright (C) 2024-2025 Yucheng Liu. Under the CC-BY-SA 4.0 License.\n",
    "CC-BY-SA 4.0 License: https://creativecommons.org/licenses/by-sa/4.0/legalcode.txt .\n",
    "```"
   ]
  },
  {
   "cell_type": "markdown",
   "metadata": {},
   "source": [
    "# 0.1. Preparing Shared Data\n",
    "\n",
    "Preparing shared VR sickness data."
   ]
  },
  {
   "cell_type": "markdown",
   "metadata": {},
   "source": [
    "Create a `./_0_Data_Shared` folder."
   ]
  },
  {
   "cell_type": "code",
   "execution_count": 1,
   "metadata": {
    "notebookRunGroups": {
     "groupValue": "1"
    }
   },
   "outputs": [],
   "source": [
    "import os\n",
    "\n",
    "Path_Self = os.path.abspath(os.path.curdir)\n",
    "Path_Output = os.path.join(Path_Self, \"_0_Data_Shared\")\n",
    "os.makedirs(Path_Output, exist_ok=True)\n"
   ]
  },
  {
   "cell_type": "markdown",
   "metadata": {},
   "source": [
    "## Preparing Single Users' Data"
   ]
  },
  {
   "cell_type": "markdown",
   "metadata": {},
   "source": [
    "Read single users' data from the `./Data_ToAnalyze/ProcessedRecords_VehicleOpacity0.8` folder.\n",
    "\n",
    "Write single users' data to `./_0_Data_Shared/User<Index_User>_VehicleOpacity0.8.json`.\n",
    "\n",
    "Note the following items.\n",
    "\n",
    "- The top-level data type of the written file is a JSON list `[]`.\n",
    "- The below code block takes a relatively longer time to run."
   ]
  },
  {
   "cell_type": "code",
   "execution_count": 2,
   "metadata": {},
   "outputs": [
    {
     "name": "stdout",
     "output_type": "stream",
     "text": [
      "Begin preparing data for user 0\n",
      "Begin reading file 1 / 2\n",
      "End reading file 1 / 2\n",
      "Begin reading file 2 / 2\n",
      "End reading file 2 / 2\n",
      "Begin writing file d:\\Program-Files\\ViSCA-Recorder_Data-Analyses_Community\\_0_Data_Shared\\User0_VehicleOpacity0.8.json\n",
      "End writing file d:\\Program-Files\\ViSCA-Recorder_Data-Analyses_Community\\_0_Data_Shared\\User0_VehicleOpacity0.8.json\n",
      "End preparing data for user 0\n",
      "Begin preparing data for user 1\n",
      "Begin reading file 1 / 2\n",
      "End reading file 1 / 2\n",
      "Begin reading file 2 / 2\n",
      "End reading file 2 / 2\n",
      "Begin writing file d:\\Program-Files\\ViSCA-Recorder_Data-Analyses_Community\\_0_Data_Shared\\User1_VehicleOpacity0.8.json\n",
      "End writing file d:\\Program-Files\\ViSCA-Recorder_Data-Analyses_Community\\_0_Data_Shared\\User1_VehicleOpacity0.8.json\n",
      "End preparing data for user 1\n",
      "Begin preparing data for user 2\n",
      "Begin reading file 1 / 2\n",
      "End reading file 1 / 2\n",
      "Begin reading file 2 / 2\n",
      "End reading file 2 / 2\n",
      "Begin writing file d:\\Program-Files\\ViSCA-Recorder_Data-Analyses_Community\\_0_Data_Shared\\User2_VehicleOpacity0.8.json\n",
      "End writing file d:\\Program-Files\\ViSCA-Recorder_Data-Analyses_Community\\_0_Data_Shared\\User2_VehicleOpacity0.8.json\n",
      "End preparing data for user 2\n",
      "Begin preparing data for user 3\n",
      "Begin reading file 1 / 2\n",
      "End reading file 1 / 2\n",
      "Begin reading file 2 / 2\n",
      "End reading file 2 / 2\n",
      "Begin writing file d:\\Program-Files\\ViSCA-Recorder_Data-Analyses_Community\\_0_Data_Shared\\User3_VehicleOpacity0.8.json\n",
      "End writing file d:\\Program-Files\\ViSCA-Recorder_Data-Analyses_Community\\_0_Data_Shared\\User3_VehicleOpacity0.8.json\n",
      "End preparing data for user 3\n"
     ]
    }
   ],
   "source": [
    "import os\n",
    "import json\n",
    "\n",
    "Path_Self = os.path.abspath(os.path.curdir)\n",
    "Path_Input = os.path.join(Path_Self, \"Data_ToAnalyze\", \"ProcessedRecords_VehicleOpacity0.8\")\n",
    "Path_Output = os.path.join(Path_Self, \"_0_Data_Shared\")\n",
    "Indexes_Users = list(range(0, 4, 1))\n",
    "\n",
    "for Index_User in Indexes_Users:\n",
    "    print(f\"Begin preparing data for user {Index_User}\")\n",
    "\n",
    "    Paths_Input_Users = [\n",
    "        f\"User{Index_User}_Preset2.json\",\n",
    "        f\"User{Index_User}_Preset4.json\"\n",
    "    ]\n",
    "\n",
    "    for Index, Path_ in enumerate(Paths_Input_Users):\n",
    "        Paths_Input_Users[Index] = os.path.join(Path_Input, Path_)\n",
    "    # end for\n",
    "\n",
    "    Path_Output_Users = os.path.join(Path_Output, f\"User{Index_User}_VehicleOpacity0.8.json\")\n",
    "    Items_Users = []\n",
    "\n",
    "    for Index, Path_ in enumerate(Paths_Input_Users):\n",
    "        print(f\"Begin reading file {Index + 1} / {len(Paths_Input_Users)}\")\n",
    "\n",
    "        with open(Path_, \"r\") as File_:\n",
    "            JSON_FromFile = json.load(File_)\n",
    "        # end with\n",
    "\n",
    "        Items = JSON_FromFile[\"items__flattened\"]\n",
    "        Items = list(Items)\n",
    "        Items_Users += Items\n",
    "        print(f\"End reading file {Index + 1} / {len(Paths_Input_Users)}\")\n",
    "    # end for\n",
    "\n",
    "    with open(Path_Output_Users, \"w\") as File_:\n",
    "        print(f\"Begin writing file {Path_Output_Users}\")\n",
    "        json.dump(Items_Users, File_, indent=4)\n",
    "        print(f\"End writing file {Path_Output_Users}\")\n",
    "    # end with\n",
    "\n",
    "    print(f\"End preparing data for user {Index_User}\")\n",
    "# end for\n"
   ]
  },
  {
   "cell_type": "markdown",
   "metadata": {},
   "source": [
    "Read single users' with-sickness data from the `./Data_ToAnalyze/ProcessedRecords_VehicleOpacity0.8_WithSickness` folder.\n",
    "\n",
    "Write single users' with-sickness data to `./_0_Data_Shared/User<Index_User>_VehicleOpacity0.8_WithSickness.json`.\n",
    "\n",
    "Note the following items.\n",
    "\n",
    "- The top-level data type of the written file is a JSON list `[]`.\n",
    "- The below code block takes a relatively longer time to run."
   ]
  },
  {
   "cell_type": "code",
   "execution_count": 3,
   "metadata": {},
   "outputs": [
    {
     "name": "stdout",
     "output_type": "stream",
     "text": [
      "Begin preparing data for user 0\n",
      "Begin reading file 1 / 2\n",
      "End reading file 1 / 2\n",
      "Begin reading file 2 / 2\n",
      "End reading file 2 / 2\n",
      "Begin writing file d:\\Program-Files\\ViSCA-Recorder_Data-Analyses_Community\\_0_Data_Shared\\User0_VehicleOpacity0.8_WithSickness.json\n",
      "End writing file d:\\Program-Files\\ViSCA-Recorder_Data-Analyses_Community\\_0_Data_Shared\\User0_VehicleOpacity0.8_WithSickness.json\n",
      "End preparing data for user 0\n",
      "Begin preparing data for user 1\n",
      "Begin reading file 1 / 2\n",
      "End reading file 1 / 2\n",
      "Begin reading file 2 / 2\n",
      "End reading file 2 / 2\n",
      "Begin writing file d:\\Program-Files\\ViSCA-Recorder_Data-Analyses_Community\\_0_Data_Shared\\User1_VehicleOpacity0.8_WithSickness.json\n",
      "End writing file d:\\Program-Files\\ViSCA-Recorder_Data-Analyses_Community\\_0_Data_Shared\\User1_VehicleOpacity0.8_WithSickness.json\n",
      "End preparing data for user 1\n",
      "Begin preparing data for user 2\n",
      "Begin reading file 1 / 2\n",
      "End reading file 1 / 2\n",
      "Begin reading file 2 / 2\n",
      "End reading file 2 / 2\n",
      "Begin writing file d:\\Program-Files\\ViSCA-Recorder_Data-Analyses_Community\\_0_Data_Shared\\User2_VehicleOpacity0.8_WithSickness.json\n",
      "End writing file d:\\Program-Files\\ViSCA-Recorder_Data-Analyses_Community\\_0_Data_Shared\\User2_VehicleOpacity0.8_WithSickness.json\n",
      "End preparing data for user 2\n",
      "Begin preparing data for user 3\n",
      "Begin reading file 1 / 2\n",
      "End reading file 1 / 2\n",
      "Begin reading file 2 / 2\n",
      "End reading file 2 / 2\n",
      "Begin writing file d:\\Program-Files\\ViSCA-Recorder_Data-Analyses_Community\\_0_Data_Shared\\User3_VehicleOpacity0.8_WithSickness.json\n",
      "End writing file d:\\Program-Files\\ViSCA-Recorder_Data-Analyses_Community\\_0_Data_Shared\\User3_VehicleOpacity0.8_WithSickness.json\n",
      "End preparing data for user 3\n"
     ]
    }
   ],
   "source": [
    "import os\n",
    "import json\n",
    "\n",
    "Path_Self = os.path.abspath(os.path.curdir)\n",
    "\n",
    "Path_Input = os.path.join(\n",
    "    Path_Self,\n",
    "    \"Data_ToAnalyze\",\n",
    "    \"ProcessedRecords_VehicleOpacity0.8_WithSickness\"\n",
    ")\n",
    "\n",
    "Path_Output = os.path.join(Path_Self, \"_0_Data_Shared\")\n",
    "Indexes_Users = list(range(0, 4, 1))\n",
    "\n",
    "for Index_User in Indexes_Users:\n",
    "    print(f\"Begin preparing data for user {Index_User}\")\n",
    "\n",
    "    Paths_Input_Users = [\n",
    "        f\"User{Index_User}_Preset2_WithSickness.json\",\n",
    "        f\"User{Index_User}_Preset4_WithSickness.json\",\n",
    "    ]\n",
    "\n",
    "    for Index, Path_ in enumerate(Paths_Input_Users):\n",
    "        Paths_Input_Users[Index] = os.path.join(Path_Input, Path_)\n",
    "    # end for\n",
    "\n",
    "    Path_Output_Users = os.path.join(Path_Output, f\"User{Index_User}_VehicleOpacity0.8_WithSickness.json\")\n",
    "    Items_Users = []\n",
    "\n",
    "    for Index, Path_ in enumerate(Paths_Input_Users):\n",
    "        print(f\"Begin reading file {Index + 1} / {len(Paths_Input_Users)}\")\n",
    "\n",
    "        with open(Path_, \"r\") as File_:\n",
    "            JSON_FromFile = json.load(File_)\n",
    "        # end with\n",
    "\n",
    "        Items = JSON_FromFile[\"items__flattened\"]\n",
    "        Items = list(Items)\n",
    "        Items_Users += Items\n",
    "        print(f\"End reading file {Index + 1} / {len(Paths_Input_Users)}\")\n",
    "    # end for\n",
    "\n",
    "    with open(Path_Output_Users, \"w\") as File_:\n",
    "        print(f\"Begin writing file {File_.name}\")\n",
    "        json.dump(Items_Users, File_, indent=4)\n",
    "        print(f\"End writing file {File_.name}\")\n",
    "    # end with\n",
    "\n",
    "    print(f\"End preparing data for user {Index_User}\")\n",
    "# end for\n"
   ]
  },
  {
   "cell_type": "markdown",
   "metadata": {},
   "source": [
    "## Preparing All Users' Data"
   ]
  },
  {
   "cell_type": "markdown",
   "metadata": {},
   "source": [
    "Read all users' data from the `./Data_ToAnalyze/ProcessedRecords_VehicleOpacity0.8` folder.\n",
    "\n",
    "Write all users' data to `./_0_Data_Shared/AllUsers_VehicleOpacity0.8.json`.\n",
    "\n",
    "Note the following items.\n",
    "\n",
    "- The top-level data type of the written file is a JSON list `[]`.\n",
    "- The below code block takes a relatively longer time to run."
   ]
  },
  {
   "cell_type": "code",
   "execution_count": 4,
   "metadata": {},
   "outputs": [
    {
     "name": "stdout",
     "output_type": "stream",
     "text": [
      "Paths_Input_Users = ['User0_Preset2.json', 'User0_Preset4.json', 'User1_Preset2.json', 'User1_Preset4.json', 'User2_Preset2.json', 'User2_Preset4.json', 'User3_Preset2.json', 'User3_Preset4.json']\n",
      "Begin reading file 1 / 8\n",
      "End reading file 1 / 8\n",
      "Begin reading file 2 / 8\n",
      "End reading file 2 / 8\n",
      "Begin reading file 3 / 8\n",
      "End reading file 3 / 8\n",
      "Begin reading file 4 / 8\n",
      "End reading file 4 / 8\n",
      "Begin reading file 5 / 8\n",
      "End reading file 5 / 8\n",
      "Begin reading file 6 / 8\n",
      "End reading file 6 / 8\n",
      "Begin reading file 7 / 8\n",
      "End reading file 7 / 8\n",
      "Begin reading file 8 / 8\n",
      "End reading file 8 / 8\n",
      "Begin writing file d:\\Program-Files\\ViSCA-Recorder_Data-Analyses_Community\\_0_Data_Shared\\AllUsers_VehicleOpacity0.8.json\n",
      "End writing file d:\\Program-Files\\ViSCA-Recorder_Data-Analyses_Community\\_0_Data_Shared\\AllUsers_VehicleOpacity0.8.json\n"
     ]
    }
   ],
   "source": [
    "import os\n",
    "import json\n",
    "from natsort import realsorted\n",
    "\n",
    "Path_Self = os.path.abspath(os.path.curdir)\n",
    "Path_Input = os.path.join(Path_Self, \"Data_ToAnalyze\", \"ProcessedRecords_VehicleOpacity0.8\")\n",
    "Paths_Input_Users = os.listdir(Path_Input)\n",
    "Paths_Input_Users = realsorted(Paths_Input_Users)\n",
    "print(f\"{Paths_Input_Users = }\")\n",
    "\n",
    "for Index, Path_ in enumerate(Paths_Input_Users):\n",
    "    Paths_Input_Users[Index] = os.path.join(Path_Input, Path_)\n",
    "# end for\n",
    "\n",
    "Path_Output = os.path.join(Path_Self, \"_0_Data_Shared\")\n",
    "Path_Output_Users = os.path.join(Path_Output, \"AllUsers_VehicleOpacity0.8.json\")\n",
    "\n",
    "Items_Users = []\n",
    "\n",
    "for Index, Path_ in enumerate(Paths_Input_Users):\n",
    "    print(f\"Begin reading file {Index + 1} / {len(Paths_Input_Users)}\")\n",
    "\n",
    "    with open(Path_, \"r\") as File_:\n",
    "        JSON_FromFile = json.load(File_)\n",
    "    # end with\n",
    "\n",
    "    Items = JSON_FromFile[\"items__flattened\"]\n",
    "    Items = list(Items)\n",
    "    Items_Users += Items\n",
    "    print(f\"End reading file {Index + 1} / {len(Paths_Input_Users)}\")\n",
    "# end for\n",
    "\n",
    "with open(Path_Output_Users, \"w\") as File_:\n",
    "    print(f\"Begin writing file {File_.name}\")\n",
    "    json.dump(Items_Users, File_, indent=4)\n",
    "    print(f\"End writing file {File_.name}\")\n",
    "# end with\n"
   ]
  },
  {
   "cell_type": "markdown",
   "metadata": {},
   "source": [
    "Read all users' with-sickness data from the `./Data_ToAnalyze/ProcessedRecords_VehicleOpacity0.8_WithSickness` folder.\n",
    "\n",
    "Write all users' with-sickness data to `./_0_Data_Shared/AllUsers_VehicleOpacity0.8_WithSickness.json`.\n",
    "\n",
    "Note the following items.\n",
    "\n",
    "- The top-level data type of the written file is a JSON list `[]`.\n",
    "- The below code block takes a relatively longer time to run.\n",
    "- The below code block is similar to the above one."
   ]
  },
  {
   "cell_type": "code",
   "execution_count": 5,
   "metadata": {},
   "outputs": [
    {
     "name": "stdout",
     "output_type": "stream",
     "text": [
      "Paths_Input_Users = ['User0_Preset2_WithSickness.json', 'User0_Preset4_WithSickness.json', 'User1_Preset2_WithSickness.json', 'User1_Preset4_WithSickness.json', 'User2_Preset2_WithSickness.json', 'User2_Preset4_WithSickness.json', 'User3_Preset2_WithSickness.json', 'User3_Preset4_WithSickness.json']\n",
      "Begin reading file 1 / 8\n",
      "End reading file 1 / 8\n",
      "Begin reading file 2 / 8\n",
      "End reading file 2 / 8\n",
      "Begin reading file 3 / 8\n",
      "End reading file 3 / 8\n",
      "Begin reading file 4 / 8\n",
      "End reading file 4 / 8\n",
      "Begin reading file 5 / 8\n",
      "End reading file 5 / 8\n",
      "Begin reading file 6 / 8\n",
      "End reading file 6 / 8\n",
      "Begin reading file 7 / 8\n",
      "End reading file 7 / 8\n",
      "Begin reading file 8 / 8\n",
      "End reading file 8 / 8\n",
      "Begin writing file d:\\Program-Files\\ViSCA-Recorder_Data-Analyses_Community\\_0_Data_Shared\\AllUsers_VehicleOpacity0.8_WithSickness.json\n",
      "End writing file d:\\Program-Files\\ViSCA-Recorder_Data-Analyses_Community\\_0_Data_Shared\\AllUsers_VehicleOpacity0.8_WithSickness.json\n"
     ]
    }
   ],
   "source": [
    "import os\n",
    "import json\n",
    "from natsort import realsorted\n",
    "\n",
    "Path_Self = os.path.abspath(os.path.curdir)\n",
    "\n",
    "Path_Input = os.path.join(\n",
    "    Path_Self,\n",
    "    \"Data_ToAnalyze\",\n",
    "    \"ProcessedRecords_VehicleOpacity0.8_WithSickness\"\n",
    ")\n",
    "\n",
    "Paths_Input_Users = os.listdir(Path_Input)\n",
    "Paths_Input_Users = realsorted(Paths_Input_Users)\n",
    "print(f\"{Paths_Input_Users = }\")\n",
    "\n",
    "for Index, Path_ in enumerate(Paths_Input_Users):\n",
    "    Paths_Input_Users[Index] = os.path.join(Path_Input, Path_)\n",
    "# end for\n",
    "\n",
    "Path_Output = os.path.join(Path_Self, \"_0_Data_Shared\")\n",
    "Path_Output_Users = os.path.join(Path_Output, \"AllUsers_VehicleOpacity0.8_WithSickness.json\")\n",
    "\n",
    "Items_Users = []\n",
    "\n",
    "for Index, Path_ in enumerate(Paths_Input_Users):\n",
    "    print(f\"Begin reading file {Index + 1} / {len(Paths_Input_Users)}\")\n",
    "\n",
    "    with open(Path_, \"r\") as File_:\n",
    "        JSON_FromFile = json.load(File_)\n",
    "    # end with\n",
    "\n",
    "    Items = JSON_FromFile[\"items__flattened\"]\n",
    "    Items = list(Items)\n",
    "    Items_Users += Items\n",
    "    print(f\"End reading file {Index + 1} / {len(Paths_Input_Users)}\")\n",
    "# end for\n",
    "\n",
    "with open(Path_Output_Users, \"w\") as File_:\n",
    "    print(f\"Begin writing file {File_.name}\")\n",
    "    json.dump(Items_Users, File_, indent=4)\n",
    "    print(f\"End writing file {File_.name}\")\n",
    "# end with\n"
   ]
  },
  {
   "cell_type": "markdown",
   "metadata": {},
   "source": [
    "## Congrats! \n",
    "\n",
    "We have completed preparing shared VR sickness data."
   ]
  }
 ],
 "metadata": {
  "kernelspec": {
   "display_name": "mphil-thesis_data-analyses",
   "language": "python",
   "name": "python3"
  },
  "language_info": {
   "codemirror_mode": {
    "name": "ipython",
    "version": 3
   },
   "file_extension": ".py",
   "mimetype": "text/x-python",
   "name": "python",
   "nbconvert_exporter": "python",
   "pygments_lexer": "ipython3",
   "version": "3.12.4"
  }
 },
 "nbformat": 4,
 "nbformat_minor": 2
}
