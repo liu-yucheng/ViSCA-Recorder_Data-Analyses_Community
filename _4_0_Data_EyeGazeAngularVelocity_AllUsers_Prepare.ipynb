{
 "cells": [
  {
   "cell_type": "markdown",
   "metadata": {},
   "source": [
    "```\n",
    "Copyright (C) 2024-2025 Yucheng Liu. Under the GNU AGPL 3.0 License.\n",
    "GNU AGPL 3.0 License: https://www.gnu.org/licenses/agpl-3.0.txt .\n",
    "\n",
    "Copyright (C) 2024-2025 Yucheng Liu. Under the CC-BY-SA 4.0 License.\n",
    "CC-BY-SA 4.0 License: https://creativecommons.org/licenses/by-sa/4.0/legalcode.txt .\n",
    "```"
   ]
  },
  {
   "cell_type": "markdown",
   "metadata": {},
   "source": [
    "# 4.0. Preparing All Users' Eye-gaze Angular Velocity Data\n",
    "\n",
    "Preparing all users' VR sickness vs. eye-gaze angular velocity data."
   ]
  },
  {
   "cell_type": "markdown",
   "metadata": {},
   "source": [
    "Note that we need to run `./_0_1_Data_Shared_Prepare.ipynb` before running the below code blocks.\n",
    "\n",
    "Create a `./_4_Data_EyeGazeAngularVelocity_AllUsers` folder."
   ]
  },
  {
   "cell_type": "code",
   "execution_count": 1,
   "metadata": {
    "notebookRunGroups": {
     "groupValue": "1"
    }
   },
   "outputs": [],
   "source": [
    "import os\n",
    "\n",
    "Path_Self = os.path.abspath(os.path.curdir)\n",
    "Path_Output = os.path.join(Path_Self, \"_4_Data_EyeGazeAngularVelocity_AllUsers\")\n",
    "os.makedirs(Path_Output, exist_ok=True)\n"
   ]
  },
  {
   "cell_type": "markdown",
   "metadata": {},
   "source": [
    "## Prepare Comprehensive (With-sickness and Without-sickness) Data\n",
    "\n",
    "Read single user's data from the `./_0_Data_Shared/AllUsers_VehicleOpacity0.8.json` file.\n",
    "\n",
    "Process single user's data by doing the following operations.\n",
    "\n",
    "- Keep the following data items to analyze.\n",
    "  - `\"timestamp.actual_record_interval_seconds\"`.\n",
    "  - `\"eye_gaze.spatial_pose.magnitude_raw_angular_velocity\"`.\n",
    "  - `\"sickness.deduced\"`.\n",
    "\n",
    "Write the following files to the `./_4_Data_EyeGazeAngularVelocity_AllUsers` folder.\n",
    "\n",
    "- Convert the following data items to analyze.\n",
    "  - Convert `\"timestamp.actual_record_interval_seconds\"` to `\"Time\"`.\n",
    "    - `\"Time\"` is the time offset in seconds from the first record item to the current record item.\n",
    "  - Rename `\"eye_gaze.spatial_pose.magnitude_raw_angular_velocity\"` to `\"EyeGazeAngularVelocity\"`.\n",
    "  - Rename `\"sickness.deduced\"` to `\"Sickness\"`.\n",
    "  - Convert all data item values to type `float`.\n",
    "- Write the data items to analyze to `User<Index_User>_ToAnalyze.json`.\n",
    "\n",
    "Note the following items.\n",
    "\n",
    "- The top-level data type of all written files is a JSON list `[]`.\n",
    "- The below code block takes a relatively long time to run."
   ]
  },
  {
   "cell_type": "code",
   "execution_count": 2,
   "metadata": {},
   "outputs": [
    {
     "name": "stdout",
     "output_type": "stream",
     "text": [
      "Begin preparing data for all users\n",
      "Begin reading file d:\\Program-Files\\ViSCA-Recorder_Data-Analyses_Community\\_0_Data_Shared\\AllUsers_VehicleOpacity0.8.json\n"
     ]
    },
    {
     "name": "stdout",
     "output_type": "stream",
     "text": [
      "End reading file d:\\Program-Files\\ViSCA-Recorder_Data-Analyses_Community\\_0_Data_Shared\\AllUsers_VehicleOpacity0.8.json\n",
      "Processed item 1 / 24221\n",
      "Processed item 2500 / 24221\n",
      "Processed item 5000 / 24221\n",
      "Processed item 7500 / 24221\n",
      "Processed item 10000 / 24221\n",
      "Processed item 12500 / 24221\n",
      "Processed item 15000 / 24221\n",
      "Processed item 17500 / 24221\n",
      "Processed item 20000 / 24221\n",
      "Processed item 22500 / 24221\n",
      "Processed item 24221 / 24221\n",
      "Begin writing file d:\\Program-Files\\ViSCA-Recorder_Data-Analyses_Community\\_4_Data_EyeGazeAngularVelocity_AllUsers\\AllUsers_ToAnalyze.json\n",
      "End writing file d:\\Program-Files\\ViSCA-Recorder_Data-Analyses_Community\\_4_Data_EyeGazeAngularVelocity_AllUsers\\AllUsers_ToAnalyze.json\n",
      "End preparing data for all users\n"
     ]
    }
   ],
   "source": [
    "import os\n",
    "import json\n",
    "\n",
    "Path_Self = os.path.abspath(os.path.curdir)\n",
    "Path_Input = os.path.join(Path_Self, \"_0_Data_Shared\")\n",
    "Path_Output = os.path.join(Path_Self, \"_4_Data_EyeGazeAngularVelocity_AllUsers\")\n",
    "\n",
    "print(f\"Begin preparing data for all users\")\n",
    "Path_Input_Users = os.path.join(Path_Input, f\"AllUsers_VehicleOpacity0.8.json\")\n",
    "Path_Output_Users = os.path.join(Path_Output, f\"AllUsers_ToAnalyze.json\")\n",
    "Items_Input_Users = []\n",
    "\n",
    "with open(Path_Input_Users, \"r\") as File_:\n",
    "    print(f\"Begin reading file {File_.name}\")\n",
    "    Items_Input_Users = json.load(File_)\n",
    "    print(f\"End reading file {File_.name}\")\n",
    "# end with\n",
    "\n",
    "Items_Input_Users = list(Items_Input_Users)\n",
    "Items_Output_Users = []\n",
    "\n",
    "Item_Output = {\n",
    "    \"Time\": 0.0,\n",
    "    \"EyeGazeAngularVelocity\": 0.0,\n",
    "    \"Sickness\": 0.0,\n",
    "}\n",
    "\n",
    "Time = 0.0\n",
    "Time_Delta = 0.0\n",
    "Sickness = 0.0\n",
    "EyeGazeAngularVelocity = 0.0\n",
    "\n",
    "for Index, Item in enumerate(Items_Input_Users):\n",
    "    Item_Output = dict(Item_Output)\n",
    "\n",
    "    if \"timestamp.actual_record_interval_seconds\" in Item:\n",
    "        Time_Delta = Item[\"timestamp.actual_record_interval_seconds\"]\n",
    "    else:\n",
    "        Time_Delta = 0.0\n",
    "    # end if\n",
    "\n",
    "    Time = float(Time)\n",
    "\n",
    "    if Time_Delta > 1.0:\n",
    "        Time_Delta = 1.0\n",
    "    # end if\n",
    "\n",
    "    Item_Output[\"Time\"] = Time\n",
    "    Time += Time_Delta\n",
    "\n",
    "    if \"eye_gaze.spatial_pose.magnitude_raw_angular_velocity\" in Item:\n",
    "        EyeGazeAngularVelocity = Item[\"eye_gaze.spatial_pose.magnitude_raw_angular_velocity\"]\n",
    "    else:\n",
    "        EyeGazeAngularVelocity = 0.0\n",
    "    # end if\n",
    "\n",
    "    EyeGazeAngularVelocity = float(EyeGazeAngularVelocity)\n",
    "    Item_Output[\"EyeGazeAngularVelocity\"] = EyeGazeAngularVelocity\n",
    "\n",
    "    if \"sickness.deduced\" in Item:\n",
    "        Sickness = Item[\"sickness.deduced\"]\n",
    "    else:\n",
    "        Sickness = 0.0\n",
    "    # end if\n",
    "\n",
    "    Sickness = float(Sickness)\n",
    "    Item_Output[\"Sickness\"] = Sickness\n",
    "    Items_Output_Users.append(Item_Output)\n",
    "\n",
    "    if \\\n",
    "        Index + 1 == 1 \\\n",
    "        or (Index + 1) % 2500 == 0 \\\n",
    "        or Index + 1 == len(Items_Input_Users) \\\n",
    "    :\n",
    "        print(f\"Processed item {Index + 1} / {len(Items_Input_Users)}\")\n",
    "    # end if\n",
    "# end for\n",
    "\n",
    "with open(Path_Output_Users, \"w\") as File_:\n",
    "    print(f\"Begin writing file {File_.name}\")\n",
    "    json.dump(Items_Output_Users, File_, indent=4)\n",
    "    print(f\"End writing file {File_.name}\")\n",
    "# end with\n",
    "\n",
    "print(f\"End preparing data for all users\")\n"
   ]
  },
  {
   "cell_type": "markdown",
   "metadata": {},
   "source": [
    "## Congrats! \n",
    "\n",
    "We have completed this `ipynb` notebook."
   ]
  }
 ],
 "metadata": {
  "kernelspec": {
   "display_name": "visca-recorder_data-analyses",
   "language": "python",
   "name": "python3"
  },
  "language_info": {
   "codemirror_mode": {
    "name": "ipython",
    "version": 3
   },
   "file_extension": ".py",
   "mimetype": "text/x-python",
   "name": "python",
   "nbconvert_exporter": "python",
   "pygments_lexer": "ipython3",
   "version": "3.12.4"
  }
 },
 "nbformat": 4,
 "nbformat_minor": 2
}
